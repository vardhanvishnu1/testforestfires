{
 "cells": [
  {
   "cell_type": "code",
   "execution_count": 19,
   "id": "76b737f4",
   "metadata": {},
   "outputs": [
    {
     "name": "stdout",
     "output_type": "stream",
     "text": [
      " * Serving Flask app '__main__'\n",
      " * Debug mode: off\n"
     ]
    },
    {
     "name": "stderr",
     "output_type": "stream",
     "text": [
      "WARNING: This is a development server. Do not use it in a production deployment. Use a production WSGI server instead.\n",
      " * Running on all addresses (0.0.0.0)\n",
      " * Running on http://127.0.0.1:5000\n",
      " * Running on http://192.168.29.117:5000\n",
      "Press CTRL+C to quit\n"
     ]
    }
   ],
   "source": [
    "from flask import Flask,request,jsonify,render_template\n",
    "import pickle\n",
    "import pandas as pd\n",
    "import numpy as np\n",
    "from flask import render_template\n",
    "from sklearn.preprocessing import StandardScaler\n",
    "\n",
    "application = Flask(__name__)\n",
    "\n",
    "\n",
    "##import ridge regressor and standard scaler pickle\n",
    "ridge_model = pickle.load(open('models/ridge.pkl','rb'))\n",
    "standard_scaler= pickle.load(open('models/scaler.pkl','rb'))\n",
    "\n",
    "@application.route(\"/\")\n",
    "def index():\n",
    "    return render_template('index.html')\n",
    "\n",
    "@application.route('/predictdata', methods=['GET', 'POST'])\n",
    "def predict_datapoint():\n",
    "    if request.method == 'POST':\n",
    "        try:\n",
    "            Temperature = float(request.form.get('Temperature'))\n",
    "            RH = float(request.form.get('RH'))\n",
    "            Ws = float(request.form.get('Ws'))\n",
    "            Rain = float(request.form.get('Rain'))\n",
    "            FFMC = float(request.form.get('FFMC'))\n",
    "            DMC = float(request.form.get('DMC'))\n",
    "            ISI = float(request.form.get('ISI'))\n",
    "            Classes = float(request.form.get('Classes'))\n",
    "            Region = float(request.form.get('Region'))\n",
    "\n",
    "            input_data = np.array([[Temperature, RH, Ws, Rain, FFMC, DMC, ISI, Classes, Region]])\n",
    "            scaled_data = standard_scaler.transform(input_data)\n",
    "            result = ridge_model.predict(scaled_data)\n",
    "\n",
    "            return render_template('home.html', results=round(result[0], 2))\n",
    "\n",
    "        except Exception as e:\n",
    "            return render_template('home.html', results=f\"Error: {e}\")\n",
    "\n",
    "    return render_template('home.html')\n",
    "\n",
    "\n",
    "\n",
    "if __name__==\"__main__\":\n",
    "    application.run(host=\"0.0.0.0\")\n",
    "\n"
   ]
  }
 ],
 "metadata": {
  "kernelspec": {
   "display_name": "base",
   "language": "python",
   "name": "python3"
  },
  "language_info": {
   "codemirror_mode": {
    "name": "ipython",
    "version": 3
   },
   "file_extension": ".py",
   "mimetype": "text/x-python",
   "name": "python",
   "nbconvert_exporter": "python",
   "pygments_lexer": "ipython3",
   "version": "3.12.7"
  }
 },
 "nbformat": 4,
 "nbformat_minor": 5
}
